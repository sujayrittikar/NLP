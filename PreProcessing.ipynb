{
  "nbformat": 4,
  "nbformat_minor": 0,
  "metadata": {
    "colab": {
      "provenance": [],
      "authorship_tag": "ABX9TyOAwzog1bUBkizC+c2QFtNk",
      "include_colab_link": true
    },
    "kernelspec": {
      "name": "python3",
      "display_name": "Python 3"
    },
    "language_info": {
      "name": "python"
    }
  },
  "cells": [
    {
      "cell_type": "markdown",
      "metadata": {
        "id": "view-in-github",
        "colab_type": "text"
      },
      "source": [
        "<a href=\"https://colab.research.google.com/github/sujayrittikar/NLP_Basics/blob/main/PreProcessing.ipynb\" target=\"_parent\"><img src=\"https://colab.research.google.com/assets/colab-badge.svg\" alt=\"Open In Colab\"/></a>"
      ]
    },
    {
      "cell_type": "markdown",
      "source": [
        "# Stemming -> Porter's Algorithm\n",
        "# Includes Word Reduction in 5 phases/rules\n",
        "\n",
        "1. Simple suffix mapping. ex: SSES -> SS, ponies -> poni\n",
        "2. Length/Complexity of word. ex: ATIONAL -> ATE\n",
        "\n",
        "Snowball -> Porter 2 Stemmer"
      ],
      "metadata": {
        "id": "RXTjMxXnMVbD"
      }
    },
    {
      "cell_type": "code",
      "source": [
        "import nltk"
      ],
      "metadata": {
        "id": "JV2DRQkCMSq4"
      },
      "execution_count": 1,
      "outputs": []
    },
    {
      "cell_type": "code",
      "source": [
        "from nltk.stem.porter import PorterStemmer"
      ],
      "metadata": {
        "id": "jTByK4vzM0oa"
      },
      "execution_count": 2,
      "outputs": []
    },
    {
      "cell_type": "code",
      "source": [
        "p_stemmer = PorterStemmer()"
      ],
      "metadata": {
        "id": "aWS7klGqM23y"
      },
      "execution_count": 3,
      "outputs": []
    },
    {
      "cell_type": "code",
      "source": [
        "words = ['run', 'runs', 'runner', 'ran', 'easily', 'fairly', 'fairness']"
      ],
      "metadata": {
        "id": "38kHGz0OM4Rt"
      },
      "execution_count": 4,
      "outputs": []
    },
    {
      "cell_type": "code",
      "source": [
        "for word in words:\n",
        "  print(word + '------->' + p_stemmer.stem(word))"
      ],
      "metadata": {
        "colab": {
          "base_uri": "https://localhost:8080/"
        },
        "id": "AJU8XFT7N1mG",
        "outputId": "be7be8bf-8790-4769-9b43-3c7542324f8e"
      },
      "execution_count": 5,
      "outputs": [
        {
          "output_type": "stream",
          "name": "stdout",
          "text": [
            "run------->run\n",
            "runs------->run\n",
            "runner------->runner\n",
            "ran------->ran\n",
            "easily------->easili\n",
            "fairly------->fairli\n",
            "fairness------->fair\n"
          ]
        }
      ]
    },
    {
      "cell_type": "code",
      "source": [
        "from nltk.stem.snowball import SnowballStemmer"
      ],
      "metadata": {
        "id": "GfLMlPc3N6JO"
      },
      "execution_count": 6,
      "outputs": []
    },
    {
      "cell_type": "code",
      "source": [
        "s_stemmer = SnowballStemmer(language='english')"
      ],
      "metadata": {
        "id": "_05-IVBaOPaM"
      },
      "execution_count": 7,
      "outputs": []
    },
    {
      "cell_type": "code",
      "source": [
        "for word in words:\n",
        "  print(word + '------->' + s_stemmer.stem(word))"
      ],
      "metadata": {
        "colab": {
          "base_uri": "https://localhost:8080/"
        },
        "id": "TcrND6MxOSmW",
        "outputId": "039c9705-7fbe-48cf-8b39-29bbea76298d"
      },
      "execution_count": 8,
      "outputs": [
        {
          "output_type": "stream",
          "name": "stdout",
          "text": [
            "run------->run\n",
            "runs------->run\n",
            "runner------->runner\n",
            "ran------->ran\n",
            "easily------->easili\n",
            "fairly------->fair\n",
            "fairness------->fair\n"
          ]
        }
      ]
    },
    {
      "cell_type": "code",
      "source": [
        "words_ = ['generous', 'generation', 'generously', 'generate']"
      ],
      "metadata": {
        "id": "44MNEOeGOWjP"
      },
      "execution_count": 9,
      "outputs": []
    },
    {
      "cell_type": "code",
      "source": [
        "for word in words_:\n",
        "  print(word + '------->' + s_stemmer.stem(word))"
      ],
      "metadata": {
        "colab": {
          "base_uri": "https://localhost:8080/"
        },
        "id": "JQe9YpMjOyuq",
        "outputId": "6628ed6d-43b5-4cca-cbb8-525d71887c22"
      },
      "execution_count": 10,
      "outputs": [
        {
          "output_type": "stream",
          "name": "stdout",
          "text": [
            "generous------->generous\n",
            "generation------->generat\n",
            "generously------->generous\n",
            "generate------->generat\n"
          ]
        }
      ]
    },
    {
      "cell_type": "markdown",
      "source": [
        "# Lemmatization"
      ],
      "metadata": {
        "id": "46jtQW65Qxw-"
      }
    },
    {
      "cell_type": "code",
      "source": [
        "import spacy "
      ],
      "metadata": {
        "colab": {
          "base_uri": "https://localhost:8080/"
        },
        "id": "LcLE_vSiO0sH",
        "outputId": "e6f1f870-21ab-4c8f-fe3a-06002a3a5bdc"
      },
      "execution_count": 11,
      "outputs": [
        {
          "output_type": "stream",
          "name": "stderr",
          "text": [
            "/usr/local/lib/python3.8/dist-packages/torch/cuda/__init__.py:497: UserWarning: Can't initialize NVML\n",
            "  warnings.warn(\"Can't initialize NVML\")\n"
          ]
        }
      ]
    },
    {
      "cell_type": "code",
      "source": [
        "nlp = spacy.load('en_core_web_sm')"
      ],
      "metadata": {
        "id": "M-_HkXMuQzeC"
      },
      "execution_count": 12,
      "outputs": []
    },
    {
      "cell_type": "code",
      "source": [
        "doc1 = nlp('I am a fighter fighting in a fight because I love to fight since I fought a tiger! I ran and ran but running never caught me as a runner, the tiger did. This is a story narrated by story-tellers whose stories are as glamorous as their own stories.')"
      ],
      "metadata": {
        "id": "gaB-4fwjQ1Q2"
      },
      "execution_count": 13,
      "outputs": []
    },
    {
      "cell_type": "code",
      "source": [
        "for token in doc1:\n",
        "  print(token.text, '\\t', token.pos_, '\\t', token.lemma, '\\t', token.lemma_)"
      ],
      "metadata": {
        "colab": {
          "base_uri": "https://localhost:8080/"
        },
        "id": "pqOgnBTtQ-Xn",
        "outputId": "a603223a-1e7a-4ac9-ab4e-8d62d07e9549"
      },
      "execution_count": 14,
      "outputs": [
        {
          "output_type": "stream",
          "name": "stdout",
          "text": [
            "I \t PRON \t 4690420944186131903 \t I\n",
            "am \t AUX \t 10382539506755952630 \t be\n",
            "a \t DET \t 11901859001352538922 \t a\n",
            "fighter \t NOUN \t 4089770865968377353 \t fighter\n",
            "fighting \t NOUN \t 13293374023388930237 \t fighting\n",
            "in \t ADP \t 3002984154512732771 \t in\n",
            "a \t DET \t 11901859001352538922 \t a\n",
            "fight \t NOUN \t 15486772212226780222 \t fight\n",
            "because \t SCONJ \t 16950148841647037698 \t because\n",
            "I \t PRON \t 4690420944186131903 \t I\n",
            "love \t VERB \t 3702023516439754181 \t love\n",
            "to \t PART \t 3791531372978436496 \t to\n",
            "fight \t VERB \t 15486772212226780222 \t fight\n",
            "since \t SCONJ \t 10066841407251338481 \t since\n",
            "I \t PRON \t 4690420944186131903 \t I\n",
            "fought \t VERB \t 15486772212226780222 \t fight\n",
            "a \t DET \t 11901859001352538922 \t a\n",
            "tiger \t NOUN \t 5423999730010037932 \t tiger\n",
            "! \t PUNCT \t 17494803046312582752 \t !\n",
            "I \t PRON \t 4690420944186131903 \t I\n",
            "ran \t VERB \t 12767647472892411841 \t run\n",
            "and \t CCONJ \t 2283656566040971221 \t and\n",
            "ran \t VERB \t 12767647472892411841 \t run\n",
            "but \t CCONJ \t 14560795576765492085 \t but\n",
            "running \t VERB \t 12767647472892411841 \t run\n",
            "never \t ADV \t 10879546028211794123 \t never\n",
            "caught \t VERB \t 15363325601580586429 \t catch\n",
            "me \t PRON \t 4690420944186131903 \t I\n",
            "as \t ADP \t 7437575085468336610 \t as\n",
            "a \t DET \t 11901859001352538922 \t a\n",
            "runner \t NOUN \t 12640964157389618806 \t runner\n",
            ", \t PUNCT \t 2593208677638477497 \t ,\n",
            "the \t DET \t 7425985699627899538 \t the\n",
            "tiger \t NOUN \t 5423999730010037932 \t tiger\n",
            "did \t VERB \t 2158845516055552166 \t do\n",
            ". \t PUNCT \t 12646065887601541794 \t .\n",
            "This \t PRON \t 1995909169258310477 \t this\n",
            "is \t AUX \t 10382539506755952630 \t be\n",
            "a \t DET \t 11901859001352538922 \t a\n",
            "story \t NOUN \t 5345497848075657444 \t story\n",
            "narrated \t VERB \t 4345783831463513450 \t narrate\n",
            "by \t ADP \t 16764210730586636600 \t by\n",
            "story \t NOUN \t 5345497848075657444 \t story\n",
            "- \t PUNCT \t 9153284864653046197 \t -\n",
            "tellers \t NOUN \t 11178177956277756958 \t teller\n",
            "whose \t DET \t 7627670039205890617 \t whose\n",
            "stories \t NOUN \t 5345497848075657444 \t story\n",
            "are \t AUX \t 10382539506755952630 \t be\n",
            "as \t ADV \t 7437575085468336610 \t as\n",
            "glamorous \t ADJ \t 8890367899052634538 \t glamorous\n",
            "as \t ADP \t 7437575085468336610 \t as\n",
            "their \t PRON \t 4244585616942201722 \t their\n",
            "own \t ADJ \t 2646123857127441627 \t own\n",
            "stories \t NOUN \t 5345497848075657444 \t story\n",
            ". \t PUNCT \t 12646065887601541794 \t .\n"
          ]
        }
      ]
    },
    {
      "cell_type": "markdown",
      "source": [
        "# Stop Words\n",
        "\n",
        "Words like 'a', 'the' that appear too frequently and aren't required to be tagged."
      ],
      "metadata": {
        "id": "9AtxQDN6R0mv"
      }
    },
    {
      "cell_type": "code",
      "source": [
        "print(nlp.Defaults.stop_words)"
      ],
      "metadata": {
        "colab": {
          "base_uri": "https://localhost:8080/"
        },
        "id": "MRIE0lrARFUX",
        "outputId": "4dd7c34f-0044-4803-bc7f-a521730d2236"
      },
      "execution_count": 15,
      "outputs": [
        {
          "output_type": "stream",
          "name": "stdout",
          "text": [
            "{'still', 'never', 'their', 'only', 'out', 'serious', 'say', 'noone', 'part', 'above', 'anywhere', 'an', 'anything', 'afterwards', 'between', 'per', 'hers', 'her', 'sometimes', 'toward', 'n’t', 'me', \"'d\", 'mostly', 'doing', 'they', 'beyond', 'hereby', 'who', 'whose', 'whence', 'seem', 'several', 'former', 'latterly', 'some', 'as', \"'m\", \"'ve\", 'him', 'less', 'be', 'and', 'whoever', 'anyhow', 'get', 'somewhere', 'about', 'latter', 'everyone', 'go', 'whereupon', 'either', 'seemed', 'behind', 'almost', 'these', 'those', 'into', 'yours', '’s', 'nobody', 'therein', 'whereby', 'does', 'at', 'could', 'became', 'or', \"'s\", 'can', 'must', 'in', 'that', 'even', 'will', 'full', 'no', 'thence', 'myself', 'back', 'unless', 'whither', 'across', 'now', 'any', 'such', 'there', '‘ll', 'against', 'among', 'namely', 'too', 'twelve', 'may', 'whereafter', 'wherever', 'own', '’ll', 'keep', 'regarding', 'than', 'becomes', 'much', 'from', 'over', 'he', 'often', 'onto', 'been', 'alone', '‘m', 'whatever', 'always', 'hereupon', 'thus', 'am', 'while', 'a', 'same', 'might', 'bottom', 'during', 'until', 'just', 'was', 'eight', 'others', 'within', '‘d', 'n‘t', 'whereas', '’ve', 'three', 'fifteen', 'sometime', 'everything', 'anyone', 'nothing', 'something', 'formerly', 'towards', 'become', 'itself', 'except', 'the', 'throughout', 'along', 'beforehand', 'wherein', 'eleven', 'one', 'else', 'themselves', '‘re', 'whether', 'although', 'through', 'show', 'since', 'what', 'most', 'both', 'she', '’re', 'them', '‘ve', 'already', 'where', 'herself', 'again', 'meanwhile', 'with', 'amongst', 'all', 'this', 'other', 'move', 'none', 'elsewhere', 'is', '‘s', 'ours', 'together', 'ourselves', 'top', 'yourselves', 'being', 'here', 'every', 'thereafter', 'himself', 'off', 'third', 'are', 'due', 'made', 'somehow', 'least', 'see', 'various', 'put', 'up', 'seems', 'its', 'however', 're', 'when', 'yet', 'next', 'under', 'whenever', 'front', 'his', 'last', 'our', 'well', 'name', '’m', 'but', \"n't\", 'whom', 'perhaps', 'four', 'down', 'because', 'had', 'neither', 'us', 'twenty', 'hundred', 'hereafter', \"'ll\", 'each', 'give', 'really', 'anyway', 'before', 'below', 'thereupon', 'very', 'via', 'make', 'few', 'did', 'seeming', 'please', 'then', 'we', 'moreover', 'yourself', 'someone', 'whole', 'empty', 'side', 'more', 'quite', 'your', 'take', 'it', 'nine', 'fifty', 'why', 'upon', 'five', 'nor', 'ever', 'enough', 'around', 'besides', 'mine', 'nevertheless', 'without', 'beside', 'forty', 'further', 'on', 'has', 'done', 'sixty', '’d', 'first', 'which', 'by', 'also', 'rather', 'everywhere', 'how', 'for', 'another', 'were', 'so', 'thereby', 'used', 'i', 'though', 'you', 'my', 'indeed', 'not', 'using', 'herein', 'call', 'would', 'if', 'ca', 'nowhere', 'ten', 'after', 'once', 'cannot', 'do', 'hence', \"'re\", 'have', 'many', 'should', 'therefore', 'to', 'becoming', 'two', 'of', 'thru', 'amount', 'otherwise', 'six'}\n"
          ]
        }
      ]
    },
    {
      "cell_type": "code",
      "source": [
        "len(nlp.Defaults.stop_words)"
      ],
      "metadata": {
        "colab": {
          "base_uri": "https://localhost:8080/"
        },
        "id": "Nm-v78Z1SJeu",
        "outputId": "e3f87f45-bc58-4170-d1a2-9635ebcd9362"
      },
      "execution_count": 16,
      "outputs": [
        {
          "output_type": "execute_result",
          "data": {
            "text/plain": [
              "326"
            ]
          },
          "metadata": {},
          "execution_count": 16
        }
      ]
    },
    {
      "cell_type": "code",
      "source": [
        "nlp.vocab['is'].is_stop"
      ],
      "metadata": {
        "colab": {
          "base_uri": "https://localhost:8080/"
        },
        "id": "oJnSMwTPSQ5-",
        "outputId": "f89ff944-6987-40a2-ed5d-d364115d6b70"
      },
      "execution_count": 17,
      "outputs": [
        {
          "output_type": "execute_result",
          "data": {
            "text/plain": [
              "True"
            ]
          },
          "metadata": {},
          "execution_count": 17
        }
      ]
    },
    {
      "cell_type": "code",
      "source": [
        "nlp.vocab['amazing'].is_stop"
      ],
      "metadata": {
        "colab": {
          "base_uri": "https://localhost:8080/"
        },
        "id": "fYINAQM7STcb",
        "outputId": "da76e067-d631-4929-e9f3-0bd58bbe5e7c"
      },
      "execution_count": 18,
      "outputs": [
        {
          "output_type": "execute_result",
          "data": {
            "text/plain": [
              "False"
            ]
          },
          "metadata": {},
          "execution_count": 18
        }
      ]
    },
    {
      "cell_type": "code",
      "source": [
        "# Add a stop word\n",
        "nlp.Defaults.stop_words.add('btw')\n",
        "nlp.vocab['btw'].is_stop = True"
      ],
      "metadata": {
        "id": "I77My4xUSYrs"
      },
      "execution_count": 19,
      "outputs": []
    },
    {
      "cell_type": "code",
      "source": [
        "nlp.vocab['btw'].is_stop"
      ],
      "metadata": {
        "colab": {
          "base_uri": "https://localhost:8080/"
        },
        "id": "xW8yOwSfSm0W",
        "outputId": "5732d91a-8b49-44f0-ed03-60a58f874d8c"
      },
      "execution_count": 20,
      "outputs": [
        {
          "output_type": "execute_result",
          "data": {
            "text/plain": [
              "True"
            ]
          },
          "metadata": {},
          "execution_count": 20
        }
      ]
    },
    {
      "cell_type": "code",
      "source": [
        "len(nlp.Defaults.stop_words)"
      ],
      "metadata": {
        "colab": {
          "base_uri": "https://localhost:8080/"
        },
        "id": "6YNnUaDNSocF",
        "outputId": "fb6223a9-46ed-4376-8a8b-59aa6aff7138"
      },
      "execution_count": 21,
      "outputs": [
        {
          "output_type": "execute_result",
          "data": {
            "text/plain": [
              "327"
            ]
          },
          "metadata": {},
          "execution_count": 21
        }
      ]
    },
    {
      "cell_type": "code",
      "source": [
        "# Remove a stop word\n",
        "nlp.Defaults.stop_words.remove('btw')\n",
        "nlp.vocab['btw'].is_stop = False"
      ],
      "metadata": {
        "id": "86d4pDR1St76"
      },
      "execution_count": 22,
      "outputs": []
    },
    {
      "cell_type": "code",
      "source": [
        "nlp.vocab['btw'].is_stop"
      ],
      "metadata": {
        "colab": {
          "base_uri": "https://localhost:8080/"
        },
        "id": "bc6jiTrSS1Ud",
        "outputId": "e12dd395-5bf8-4e96-c952-6b9614300b04"
      },
      "execution_count": 23,
      "outputs": [
        {
          "output_type": "execute_result",
          "data": {
            "text/plain": [
              "False"
            ]
          },
          "metadata": {},
          "execution_count": 23
        }
      ]
    },
    {
      "cell_type": "code",
      "source": [
        "len(nlp.Defaults.stop_words)"
      ],
      "metadata": {
        "colab": {
          "base_uri": "https://localhost:8080/"
        },
        "id": "EoC1GLJAS30d",
        "outputId": "ec953f34-fc49-4b52-b5a0-bd1460b46238"
      },
      "execution_count": 24,
      "outputs": [
        {
          "output_type": "execute_result",
          "data": {
            "text/plain": [
              "326"
            ]
          },
          "metadata": {},
          "execution_count": 24
        }
      ]
    },
    {
      "cell_type": "markdown",
      "source": [
        "# Vocabulary and Matching"
      ],
      "metadata": {
        "id": "wt6s5hEFS8w2"
      }
    },
    {
      "cell_type": "code",
      "source": [
        "from spacy.matcher import Matcher"
      ],
      "metadata": {
        "id": "Ls9uv5aZS-vW"
      },
      "execution_count": 25,
      "outputs": []
    },
    {
      "cell_type": "code",
      "source": [
        "matcher = Matcher(nlp.vocab)"
      ],
      "metadata": {
        "id": "w2emaRgOTTZm"
      },
      "execution_count": 26,
      "outputs": []
    },
    {
      "cell_type": "code",
      "source": [
        "# SolarPower\n",
        "pattern1 = [{'LOWER': 'solarpower'}]\n",
        "# Solar-power\n",
        "pattern2 = [{'LOWER': 'solar'}, {'IS_PUNCT': True}, {'LOWER': 'power'}]\n",
        "# Solar power\n",
        "pattern3 = [{'LOWER': 'solar'}, {'LOWER': 'power'}]"
      ],
      "metadata": {
        "id": "QO1TszufTVo7"
      },
      "execution_count": 28,
      "outputs": []
    },
    {
      "cell_type": "code",
      "source": [
        "matcher.add(key='SolarPower', patterns=[pattern1, pattern2, pattern3])"
      ],
      "metadata": {
        "id": "6bOcwjn6VY9E"
      },
      "execution_count": 30,
      "outputs": []
    },
    {
      "cell_type": "code",
      "source": [
        "doc = nlp(u\"The Solar Power industry continues to grow a solarpower increases. Solar-power is an important resource for power.\")"
      ],
      "metadata": {
        "id": "r3Yqz8JHVfLK"
      },
      "execution_count": 31,
      "outputs": []
    },
    {
      "cell_type": "code",
      "source": [
        "found_matches = matcher(doc)"
      ],
      "metadata": {
        "id": "ZQgpeiO7WiLw"
      },
      "execution_count": 32,
      "outputs": []
    },
    {
      "cell_type": "code",
      "source": [
        "print(found_matches)"
      ],
      "metadata": {
        "colab": {
          "base_uri": "https://localhost:8080/"
        },
        "id": "5fyBz4y_WkIB",
        "outputId": "83e07251-49cc-4204-801e-d6a4ce8b2ba8"
      },
      "execution_count": 33,
      "outputs": [
        {
          "output_type": "stream",
          "name": "stdout",
          "text": [
            "[(8656102463236116519, 1, 3), (8656102463236116519, 8, 9), (8656102463236116519, 11, 14)]\n"
          ]
        }
      ]
    },
    {
      "cell_type": "code",
      "source": [
        "for match_id, start, end in found_matches:\n",
        "  string_id = nlp.vocab.strings[match_id]\n",
        "  span = doc[start:end]\n",
        "  print(match_id, string_id, start, end, span.text)"
      ],
      "metadata": {
        "colab": {
          "base_uri": "https://localhost:8080/"
        },
        "id": "tmBiZ8NDWlmd",
        "outputId": "71f8a2c1-55ba-49ec-8498-c938281cd432"
      },
      "execution_count": 34,
      "outputs": [
        {
          "output_type": "stream",
          "name": "stdout",
          "text": [
            "8656102463236116519 SolarPower 1 3 Solar Power\n",
            "8656102463236116519 SolarPower 8 9 solarpower\n",
            "8656102463236116519 SolarPower 11 14 Solar-power\n"
          ]
        }
      ]
    },
    {
      "cell_type": "code",
      "source": [
        "matcher.remove('SolarPower')"
      ],
      "metadata": {
        "id": "tRJzRpqCW2Ga"
      },
      "execution_count": 35,
      "outputs": []
    },
    {
      "cell_type": "code",
      "source": [
        "pattern1 = [{'LOWER': 'solarpower'}]\n",
        "pattern2 = [{'LOWER': 'solar'}, {'IS_PUNCT': True, 'OP': '*'}, {'LOWER': 'power'}]"
      ],
      "metadata": {
        "id": "C-kS-HVqW_-k"
      },
      "execution_count": 36,
      "outputs": []
    },
    {
      "cell_type": "code",
      "source": [
        "matcher.add(key='SolarPower', patterns=[pattern1, pattern2])"
      ],
      "metadata": {
        "id": "xlFdyD8lXUx5"
      },
      "execution_count": 38,
      "outputs": []
    },
    {
      "cell_type": "code",
      "source": [
        "doc2 = nlp(u\"Solar--power is solarpower!\")"
      ],
      "metadata": {
        "id": "Z-bBj9hnXZta"
      },
      "execution_count": 39,
      "outputs": []
    },
    {
      "cell_type": "code",
      "source": [
        "found_matches = matcher(doc2)"
      ],
      "metadata": {
        "id": "jrJmnwAWXjuv"
      },
      "execution_count": 40,
      "outputs": []
    },
    {
      "cell_type": "code",
      "source": [
        "for match_id, start, end in found_matches:\n",
        "  string_id = nlp.vocab.strings[match_id]\n",
        "  span = doc2[start:end]\n",
        "  print(match_id, string_id, start, end, span.text)"
      ],
      "metadata": {
        "colab": {
          "base_uri": "https://localhost:8080/"
        },
        "id": "mdrX7ASIXoHa",
        "outputId": "816cd875-1737-4654-b385-40edac66a0c6"
      },
      "execution_count": 42,
      "outputs": [
        {
          "output_type": "stream",
          "name": "stdout",
          "text": [
            "8656102463236116519 SolarPower 0 3 Solar--power\n",
            "8656102463236116519 SolarPower 4 5 solarpower\n"
          ]
        }
      ]
    },
    {
      "cell_type": "markdown",
      "source": [
        "# Phrase Matching"
      ],
      "metadata": {
        "id": "Tg81ZoIqYE4Q"
      }
    },
    {
      "cell_type": "code",
      "source": [
        "from spacy.matcher import PhraseMatcher"
      ],
      "metadata": {
        "id": "HgmNqufRYFz3"
      },
      "execution_count": 43,
      "outputs": []
    },
    {
      "cell_type": "code",
      "source": [
        "matcher = PhraseMatcher(nlp.vocab)"
      ],
      "metadata": {
        "id": "ilLAD9n_YIE6"
      },
      "execution_count": 44,
      "outputs": []
    },
    {
      "cell_type": "code",
      "source": [
        "with open('reagonomics.txt') as f:\n",
        "  doc3 = nlp(f.read())"
      ],
      "metadata": {
        "id": "Wc-J8RRZYTgz"
      },
      "execution_count": 45,
      "outputs": []
    },
    {
      "cell_type": "code",
      "source": [
        "phrase_list = ['voodoo economics', 'supply-side economics', 'trickle-down economics', 'free-market economics']"
      ],
      "metadata": {
        "id": "HaD-Po0SZj4B"
      },
      "execution_count": 46,
      "outputs": []
    },
    {
      "cell_type": "code",
      "source": [
        "phrase_patterns = [nlp(text) for text in phrase_list]"
      ],
      "metadata": {
        "id": "5tJ5xTUTZzJx"
      },
      "execution_count": 47,
      "outputs": []
    },
    {
      "cell_type": "code",
      "source": [
        "matcher.add(key='EconMatcher', docs=phrase_patterns)"
      ],
      "metadata": {
        "id": "8psNI9yUZ2QQ"
      },
      "execution_count": 49,
      "outputs": []
    },
    {
      "cell_type": "code",
      "source": [
        "found_matches = matcher(doc3)"
      ],
      "metadata": {
        "id": "itqMg80EaAKy"
      },
      "execution_count": 51,
      "outputs": []
    },
    {
      "cell_type": "code",
      "source": [
        "found_matches"
      ],
      "metadata": {
        "colab": {
          "base_uri": "https://localhost:8080/"
        },
        "id": "cQpiG1TpaK2D",
        "outputId": "493160ab-0d28-432a-ed2d-08e19d35f7a1"
      },
      "execution_count": 52,
      "outputs": [
        {
          "output_type": "execute_result",
          "data": {
            "text/plain": [
              "[(3680293220734633682, 41, 45),\n",
              " (3680293220734633682, 49, 53),\n",
              " (3680293220734633682, 54, 56),\n",
              " (3680293220734633682, 61, 65),\n",
              " (3680293220734633682, 673, 677),\n",
              " (3680293220734633682, 2986, 2990)]"
            ]
          },
          "metadata": {},
          "execution_count": 52
        }
      ]
    },
    {
      "cell_type": "code",
      "source": [
        "for match_id, start, end in found_matches:\n",
        "  string_id = nlp.vocab.strings[match_id]\n",
        "  span = doc3[start:end]\n",
        "  print(match_id, string_id, start, end, span.text)"
      ],
      "metadata": {
        "colab": {
          "base_uri": "https://localhost:8080/"
        },
        "id": "WVHy4IbWaNok",
        "outputId": "6055917e-b03b-4e05-e9ae-b6a6b5d3b5ff"
      },
      "execution_count": 53,
      "outputs": [
        {
          "output_type": "stream",
          "name": "stdout",
          "text": [
            "3680293220734633682 EconMatcher 41 45 supply-side economics\n",
            "3680293220734633682 EconMatcher 49 53 trickle-down economics\n",
            "3680293220734633682 EconMatcher 54 56 voodoo economics\n",
            "3680293220734633682 EconMatcher 61 65 free-market economics\n",
            "3680293220734633682 EconMatcher 673 677 supply-side economics\n",
            "3680293220734633682 EconMatcher 2986 2990 trickle-down economics\n"
          ]
        }
      ]
    }
  ]
}