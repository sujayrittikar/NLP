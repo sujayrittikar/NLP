{
  "nbformat": 4,
  "nbformat_minor": 0,
  "metadata": {
    "colab": {
      "provenance": [],
      "authorship_tag": "ABX9TyNW8zYhiM+wFSFPfw4WAERr",
      "include_colab_link": true
    },
    "kernelspec": {
      "name": "python3",
      "display_name": "Python 3"
    },
    "language_info": {
      "name": "python"
    }
  },
  "cells": [
    {
      "cell_type": "markdown",
      "metadata": {
        "id": "view-in-github",
        "colab_type": "text"
      },
      "source": [
        "<a href=\"https://colab.research.google.com/github/sujayrittikar/NLP_Basics/blob/main/spacy_basics.ipynb\" target=\"_parent\"><img src=\"https://colab.research.google.com/assets/colab-badge.svg\" alt=\"Open In Colab\"/></a>"
      ]
    },
    {
      "cell_type": "code",
      "execution_count": 1,
      "metadata": {
        "colab": {
          "base_uri": "https://localhost:8080/"
        },
        "id": "6CbK5MhomGdz",
        "outputId": "cf6f330f-534f-4b7e-9144-c0a02696ac9f"
      },
      "outputs": [
        {
          "output_type": "stream",
          "name": "stderr",
          "text": [
            "/usr/local/lib/python3.8/dist-packages/torch/cuda/__init__.py:497: UserWarning: Can't initialize NVML\n",
            "  warnings.warn(\"Can't initialize NVML\")\n"
          ]
        }
      ],
      "source": [
        "import spacy"
      ]
    },
    {
      "cell_type": "code",
      "source": [
        "nlp = spacy.load('en_core_web_sm')"
      ],
      "metadata": {
        "id": "DhrlnFZPmLEO"
      },
      "execution_count": 2,
      "outputs": []
    },
    {
      "cell_type": "code",
      "source": [
        "# Creating a text document\n",
        "doc = nlp(u'The Indian Universities need better infra and research outcome.')"
      ],
      "metadata": {
        "id": "enQ2rASbpIOK"
      },
      "execution_count": 3,
      "outputs": []
    },
    {
      "cell_type": "code",
      "source": [
        "# Capturing important Tokens with POS tags\n",
        "# pos_ -> Part of Speech, \n",
        "# dep_ -> Syntactic dependency\n",
        "for token in doc:\n",
        "  print(token.text, token.pos_, token.dep_)"
      ],
      "metadata": {
        "colab": {
          "base_uri": "https://localhost:8080/"
        },
        "id": "xjD7h6STpTWT",
        "outputId": "91d99a83-5b7b-48f5-f14e-ec3b37b2b0fa"
      },
      "execution_count": 7,
      "outputs": [
        {
          "output_type": "stream",
          "name": "stdout",
          "text": [
            "The DET det\n",
            "Indian PROPN compound\n",
            "Universities PROPN nsubj\n",
            "need VERB ROOT\n",
            "better ADJ amod\n",
            "infra NOUN dobj\n",
            "and CCONJ cc\n",
            "research NOUN compound\n",
            "outcome NOUN conj\n",
            ". PUNCT punct\n"
          ]
        }
      ]
    },
    {
      "cell_type": "code",
      "source": [
        "# Processing Pipeline\n",
        "nlp.pipeline"
      ],
      "metadata": {
        "colab": {
          "base_uri": "https://localhost:8080/"
        },
        "id": "0tr1ZdTzpgoc",
        "outputId": "a3dd6a78-6d14-4ff6-9fa7-eea53fc17a76"
      },
      "execution_count": 8,
      "outputs": [
        {
          "output_type": "execute_result",
          "data": {
            "text/plain": [
              "[('tok2vec', <spacy.pipeline.tok2vec.Tok2Vec at 0x7f3f76e14dc0>),\n",
              " ('tagger', <spacy.pipeline.tagger.Tagger at 0x7f3f76e14e20>),\n",
              " ('parser', <spacy.pipeline.dep_parser.DependencyParser at 0x7f3f76e02040>),\n",
              " ('attribute_ruler',\n",
              "  <spacy.pipeline.attributeruler.AttributeRuler at 0x7f3f76dafcc0>),\n",
              " ('lemmatizer',\n",
              "  <spacy.lang.en.lemmatizer.EnglishLemmatizer at 0x7f3f76db7ac0>),\n",
              " ('ner', <spacy.pipeline.ner.EntityRecognizer at 0x7f3f76e02190>)]"
            ]
          },
          "metadata": {},
          "execution_count": 8
        }
      ]
    },
    {
      "cell_type": "code",
      "source": [
        "nlp.pipe_names"
      ],
      "metadata": {
        "colab": {
          "base_uri": "https://localhost:8080/"
        },
        "id": "goNTCopQqN8F",
        "outputId": "c0c9dc66-43e5-442d-ccd1-84af1fc45d1b"
      },
      "execution_count": 9,
      "outputs": [
        {
          "output_type": "execute_result",
          "data": {
            "text/plain": [
              "['tok2vec', 'tagger', 'parser', 'attribute_ruler', 'lemmatizer', 'ner']"
            ]
          },
          "metadata": {},
          "execution_count": 9
        }
      ]
    },
    {
      "cell_type": "code",
      "source": [
        "# Tokenization\n",
        "doc2 = nlp(u\"Tesla isn't looking that good!\")"
      ],
      "metadata": {
        "id": "VIsOW7khqUaf"
      },
      "execution_count": 10,
      "outputs": []
    },
    {
      "cell_type": "code",
      "source": [
        "for token in doc2:\n",
        "  print(token.text, token.pos_, token.dep_)"
      ],
      "metadata": {
        "colab": {
          "base_uri": "https://localhost:8080/"
        },
        "id": "OguE1_Z6qf11",
        "outputId": "eb979c3c-43bf-4689-d3ea-21b390f79574"
      },
      "execution_count": 11,
      "outputs": [
        {
          "output_type": "stream",
          "name": "stdout",
          "text": [
            "Tesla PROPN nsubj\n",
            "is AUX aux\n",
            "n't PART neg\n",
            "looking VERB ROOT\n",
            "that PRON advmod\n",
            "good ADJ acomp\n",
            "! PUNCT punct\n"
          ]
        }
      ]
    },
    {
      "cell_type": "code",
      "source": [
        "# Spans\n",
        "doc3 = nlp(u'When he looked into her dark eyes, and saw that her lips were poised between a laugh and silence, he learned the most important part of the language that all the world spoke—the language that everyone on earth was capable of understanding in their heart. It was love. The dunes are changed by the wind, but the desert never changes. That\\'s the way it will be with our love for each other.')"
      ],
      "metadata": {
        "id": "OahoNGRHqkz0"
      },
      "execution_count": 18,
      "outputs": []
    },
    {
      "cell_type": "code",
      "source": [
        "life_quote = doc3[6:]"
      ],
      "metadata": {
        "id": "Hzlz_FfyrqsB"
      },
      "execution_count": 19,
      "outputs": []
    },
    {
      "cell_type": "code",
      "source": [
        "print(life_quote)"
      ],
      "metadata": {
        "colab": {
          "base_uri": "https://localhost:8080/"
        },
        "id": "ump0hM3GrxtF",
        "outputId": "21c4e2e0-76ff-4ff7-98fa-2ded01e1c5e8"
      },
      "execution_count": 20,
      "outputs": [
        {
          "output_type": "stream",
          "name": "stdout",
          "text": [
            "eyes, and saw that her lips were poised between a laugh and silence, he learned the most important part of the language that all the world spoke—the language that everyone on earth was capable of understanding in their heart. It was love. The dunes are changed by the wind, but the desert never changes. That's the way it will be with our love for each other.\n"
          ]
        }
      ]
    },
    {
      "cell_type": "code",
      "source": [
        "type(life_quote)"
      ],
      "metadata": {
        "colab": {
          "base_uri": "https://localhost:8080/"
        },
        "id": "huhl6uBJr0Gn",
        "outputId": "8f26fac6-70d7-4890-eb3a-50888e920157"
      },
      "execution_count": 21,
      "outputs": [
        {
          "output_type": "execute_result",
          "data": {
            "text/plain": [
              "spacy.tokens.span.Span"
            ]
          },
          "metadata": {},
          "execution_count": 21
        }
      ]
    },
    {
      "cell_type": "code",
      "source": [
        "type(doc3)"
      ],
      "metadata": {
        "colab": {
          "base_uri": "https://localhost:8080/"
        },
        "id": "Si2LNnotr7VW",
        "outputId": "9e96a4b2-3dda-4994-de1b-5c8039ca5a4a"
      },
      "execution_count": 22,
      "outputs": [
        {
          "output_type": "execute_result",
          "data": {
            "text/plain": [
              "spacy.tokens.doc.Doc"
            ]
          },
          "metadata": {},
          "execution_count": 22
        }
      ]
    },
    {
      "cell_type": "code",
      "source": [
        "# Separating Sentences from a text\n",
        "for sentence in doc3.sents:\n",
        "  print(sentence)"
      ],
      "metadata": {
        "colab": {
          "base_uri": "https://localhost:8080/"
        },
        "id": "ERdfRTnbr9ac",
        "outputId": "e4fac6c6-68b0-41d8-db29-6845843dd704"
      },
      "execution_count": 23,
      "outputs": [
        {
          "output_type": "stream",
          "name": "stdout",
          "text": [
            "When he looked into her dark eyes, and saw that her lips were poised between a laugh and silence, he learned the most important part of the language that all the world spoke—the language that everyone on earth was capable of understanding in their heart.\n",
            "It was love.\n",
            "The dunes are changed by the wind, but the desert never changes.\n",
            "That's the way it will be with our love for each other.\n"
          ]
        }
      ]
    }
  ]
}